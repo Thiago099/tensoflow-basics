{
 "cells": [
  {
   "cell_type": "code",
   "execution_count": 2,
   "metadata": {},
   "outputs": [
    {
     "name": "stdout",
     "output_type": "stream",
     "text": [
      "Question: ['What is the capital of France?', \"Who wrote 'Romeo and Juliet'?\", 'How does photosynthesis work?']\n",
      "Predicted Answer: ['paris', 'william shakespeare', 'photosynthesis is the process by which green plants and some other organisms use sunlight to synthesize foods with the help of chlorophyll']\n"
     ]
    }
   ],
   "source": [
    "from model import train\n",
    "\n",
    "questions = [\"What is the capital of France?\", \"Who wrote 'Romeo and Juliet'?\", \"How does photosynthesis work?\"]\n",
    "answers = [\"Paris\", \"William Shakespeare\", \"Photosynthesis is the process by which green plants and some other organisms use sunlight to synthesize foods with the help of chlorophyll.\"]\n",
    "\n",
    "predict = train(questions, answers)\n",
    "\n",
    "print(f\"Question: {questions}\")\n",
    "print(f\"Predicted Answer: {predict(questions)}\")\n",
    "\n"
   ]
  }
 ],
 "metadata": {
  "kernelspec": {
   "display_name": "Python 3",
   "language": "python",
   "name": "python3"
  },
  "language_info": {
   "codemirror_mode": {
    "name": "ipython",
    "version": 3
   },
   "file_extension": ".py",
   "mimetype": "text/x-python",
   "name": "python",
   "nbconvert_exporter": "python",
   "pygments_lexer": "ipython3",
   "version": "3.10.11"
  }
 },
 "nbformat": 4,
 "nbformat_minor": 2
}
