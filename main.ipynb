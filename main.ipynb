{
 "cells": [
  {
   "cell_type": "code",
   "execution_count": 2,
   "metadata": {},
   "outputs": [
    {
     "name": "stdout",
     "output_type": "stream",
     "text": [
      "[\n",
      "    \"What is the capital of France?\",\n",
      "    \"Who wrote 'Romeo and Juliet'?\",\n",
      "    \"How does plants gets nutrition?\"\n",
      "]\n",
      "[\n",
      "    \"paris\",\n",
      "    \"william shakespeare\",\n",
      "    \"photosynthesis\"\n",
      "]\n"
     ]
    }
   ],
   "source": [
    "import json\n",
    "from model import train\n",
    "\n",
    "\n",
    "def jsonPrint(str):\n",
    "     print(json.dumps(str, indent=4))\n",
    "\n",
    "\n",
    "questions = [\n",
    "     \"What is the capital of France?\", \n",
    "     \"Who wrote 'Romeo and Juliet'?\", \n",
    "     \"How does plants gets nutrition?\"\n",
    "]\n",
    "\n",
    "answers = [\n",
    "     \"Paris\",\n",
    "     \"William Shakespeare\",\n",
    "     \"Photosynthesis\"\n",
    "]\n",
    "\n",
    "predict = train(questions, answers)\n",
    "\n",
    "jsonPrint(questions)\n",
    "jsonPrint(predict(questions))\n",
    "\n",
    "\n"
   ]
  }
 ],
 "metadata": {
  "kernelspec": {
   "display_name": "Python 3",
   "language": "python",
   "name": "python3"
  },
  "language_info": {
   "codemirror_mode": {
    "name": "ipython",
    "version": 3
   },
   "file_extension": ".py",
   "mimetype": "text/x-python",
   "name": "python",
   "nbconvert_exporter": "python",
   "pygments_lexer": "ipython3",
   "version": "3.10.11"
  }
 },
 "nbformat": 4,
 "nbformat_minor": 2
}
