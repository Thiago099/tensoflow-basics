{
 "cells": [
  {
   "cell_type": "code",
   "execution_count": 2,
   "metadata": {},
   "outputs": [
    {
     "name": "stdout",
     "output_type": "stream",
     "text": [
      "Downloading data from https://storage.googleapis.com/tensorflow/tf-keras-datasets/mnist.npz\n",
      "11490434/11490434 [==============================] - 1s 0us/step\n",
      "Epoch 1/5\n",
      "1875/1875 [==============================] - 2s 970us/step - loss: 0.2633 - accuracy: 0.9246\n",
      "Epoch 2/5\n",
      "1875/1875 [==============================] - 2s 936us/step - loss: 0.1186 - accuracy: 0.9653\n",
      "Epoch 3/5\n",
      "1875/1875 [==============================] - 2s 937us/step - loss: 0.0822 - accuracy: 0.9746\n",
      "Epoch 4/5\n",
      "1875/1875 [==============================] - 2s 935us/step - loss: 0.0603 - accuracy: 0.9821\n",
      "Epoch 5/5\n",
      "1875/1875 [==============================] - 2s 930us/step - loss: 0.0472 - accuracy: 0.9853\n",
      "313/313 [==============================] - 0s 614us/step - loss: 0.0734 - accuracy: 0.9780\n",
      "Test accuracy: 0.9779999852180481\n"
     ]
    }
   ],
   "source": [
    "import tensorflow as tf\n",
    "from tensorflow import keras\n",
    "from tensorflow.keras.datasets import mnist\n",
    "from tensorflow.keras.models import Sequential\n",
    "from tensorflow.keras.layers import Flatten, Dense\n",
    "\n",
    "# Load the MNIST dataset and split it into training and testing sets\n",
    "(x_train, y_train), (x_test, y_test) = mnist.load_data()\n",
    "\n",
    "# Normalize the pixel values to a range of 0 to 1\n",
    "x_train, x_test = x_train / 255.0, x_test / 255.0\n",
    "\n",
    "# Define the model\n",
    "model = Sequential([\n",
    "    Flatten(input_shape=(28, 28)),  # Flatten the 28x28 images to a 1D array\n",
    "    Dense(128, activation='relu'),  # Fully connected layer with 128 neurons\n",
    "    Dense(10, activation='softmax')  # Output layer with 10 neurons for class probabilities\n",
    "])\n",
    "\n",
    "# Compile the model\n",
    "model.compile(optimizer='adam',\n",
    "              loss='sparse_categorical_crossentropy',\n",
    "              metrics=['accuracy'])\n",
    "\n",
    "# Train the model\n",
    "model.fit(x_train, y_train, epochs=5)\n",
    "\n",
    "# Evaluate the model on the test data\n",
    "test_loss, test_accuracy = model.evaluate(x_test, y_test)\n",
    "print(f\"Test accuracy: {test_accuracy}\")\n"
   ]
  },
  {
   "cell_type": "code",
   "execution_count": 11,
   "metadata": {},
   "outputs": [
    {
     "name": "stdout",
     "output_type": "stream",
     "text": [
      "1/1 [==============================] - 0s 4ms/step\n",
      "Predicted class: 7 7\n"
     ]
    }
   ],
   "source": [
    "# Assuming you have already trained the model\n",
    "predicted_probabilities = model.predict(x_test[0:1])\n",
    "\n",
    "# The predicted_probabilities is a 2D array, so you can extract the class with the highest probability\n",
    "predicted_class = predicted_probabilities.argmax()\n",
    "\n",
    "print(f\"Predicted class: {predicted_class} {y_test[0]}\")\n"
   ]
  },
  {
   "cell_type": "code",
   "execution_count": 25,
   "metadata": {},
   "outputs": [
    {
     "name": "stdout",
     "output_type": "stream",
     "text": [
      "Final training loss: 0.0021023850422352552\n",
      "Final training accuracy: 1.0\n",
      "1/1 [==============================] - 0s 17ms/step\n",
      "Predictions:\n",
      "[[1. 0.]\n",
      " [0. 1.]\n",
      " [0. 1.]\n",
      " [1. 0.]]\n"
     ]
    }
   ],
   "source": [
    "import tensorflow as tf\n",
    "import numpy as np\n",
    "\n",
    "# Define your training data\n",
    "x = np.array([[1, 0, 0], [0, 1, 0], [1, 0, 1], [0, 1, 1]])\n",
    "y = np.array([[1, 0], [0, 1], [0, 1], [1, 0]])\n",
    "\n",
    "# Create a Sequential model\n",
    "model = tf.keras.Sequential([\n",
    "    tf.keras.layers.Dense(4, activation='relu', input_shape=(3,)),\n",
    "    tf.keras.layers.Dense(32, activation='relu'),\n",
    "    tf.keras.layers.Dense(2, activation='softmax'),\n",
    "])\n",
    "\n",
    "# Compile the model\n",
    "model.compile(optimizer='adam',\n",
    "              loss='categorical_crossentropy',  # For binary classification\n",
    "              metrics=['accuracy'])\n",
    "\n",
    "# Train the model\n",
    "model.fit(x, y, epochs=1000, verbose=0)  # You can adjust the number of epochs\n",
    "\n",
    "# Evaluate the model (optional)\n",
    "loss, accuracy = model.evaluate(x, y, verbose=0)\n",
    "print(f\"Final training loss: {loss}\")\n",
    "print(f\"Final training accuracy: {accuracy}\")\n",
    "\n",
    "predictions = model.predict(x)\n",
    "print(\"Predictions:\")\n",
    "print(np.round(predictions,0))"
   ]
  }
 ],
 "metadata": {
  "kernelspec": {
   "display_name": "Python 3",
   "language": "python",
   "name": "python3"
  },
  "language_info": {
   "codemirror_mode": {
    "name": "ipython",
    "version": 3
   },
   "file_extension": ".py",
   "mimetype": "text/x-python",
   "name": "python",
   "nbconvert_exporter": "python",
   "pygments_lexer": "ipython3",
   "version": "3.10.11"
  }
 },
 "nbformat": 4,
 "nbformat_minor": 2
}
